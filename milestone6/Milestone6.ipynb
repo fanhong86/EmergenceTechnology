{
 "cells": [
  {
   "cell_type": "code",
   "execution_count": 354,
   "metadata": {},
   "outputs": [],
   "source": [
    "import numpy as np\n",
    "import pandas as pd\n",
    "import seaborn as sb\n",
    "import matplotlib.pyplot as plt"
   ]
  },
  {
   "cell_type": "code",
   "execution_count": 355,
   "metadata": {},
   "outputs": [],
   "source": [
    "wea = pd.read_json('austin_weather_sept_thru_nov18.json')"
   ]
  },
  {
   "cell_type": "code",
   "execution_count": 356,
   "metadata": {},
   "outputs": [
    {
     "data": {
      "text/html": [
       "<div>\n",
       "<style scoped>\n",
       "    .dataframe tbody tr th:only-of-type {\n",
       "        vertical-align: middle;\n",
       "    }\n",
       "\n",
       "    .dataframe tbody tr th {\n",
       "        vertical-align: top;\n",
       "    }\n",
       "\n",
       "    .dataframe thead th {\n",
       "        text-align: right;\n",
       "    }\n",
       "</style>\n",
       "<table border=\"1\" class=\"dataframe\">\n",
       "  <thead>\n",
       "    <tr style=\"text-align: right;\">\n",
       "      <th></th>\n",
       "      <th>city_id</th>\n",
       "      <th>clouds</th>\n",
       "      <th>dt</th>\n",
       "      <th>dt_iso</th>\n",
       "      <th>main</th>\n",
       "      <th>rain</th>\n",
       "      <th>weather</th>\n",
       "      <th>wind</th>\n",
       "    </tr>\n",
       "  </thead>\n",
       "  <tbody>\n",
       "    <tr>\n",
       "      <th>0</th>\n",
       "      <td>4671654</td>\n",
       "      <td>{'all': 1}</td>\n",
       "      <td>1535760000</td>\n",
       "      <td>2018-09-01 00:00:00 +0000 UTC</td>\n",
       "      <td>{'temp': 308.22, 'temp_min': 307.15, 'temp_max...</td>\n",
       "      <td>NaN</td>\n",
       "      <td>[{'id': 800, 'main': 'Clear', 'description': '...</td>\n",
       "      <td>{'speed': 4, 'deg': 140}</td>\n",
       "    </tr>\n",
       "    <tr>\n",
       "      <th>1</th>\n",
       "      <td>4671654</td>\n",
       "      <td>{'all': 1}</td>\n",
       "      <td>1535763600</td>\n",
       "      <td>2018-09-01 01:00:00 +0000 UTC</td>\n",
       "      <td>{'temp': 306.64, 'temp_min': 305.95, 'temp_max...</td>\n",
       "      <td>NaN</td>\n",
       "      <td>[{'id': 800, 'main': 'Clear', 'description': '...</td>\n",
       "      <td>{'speed': 3, 'deg': 120}</td>\n",
       "    </tr>\n",
       "    <tr>\n",
       "      <th>2</th>\n",
       "      <td>4671654</td>\n",
       "      <td>{'all': 1}</td>\n",
       "      <td>1535767200</td>\n",
       "      <td>2018-09-01 02:00:00 +0000 UTC</td>\n",
       "      <td>{'temp': 304.94, 'temp_min': 303.75, 'temp_max...</td>\n",
       "      <td>NaN</td>\n",
       "      <td>[{'id': 800, 'main': 'Clear', 'description': '...</td>\n",
       "      <td>{'speed': 2, 'deg': 130}</td>\n",
       "    </tr>\n",
       "    <tr>\n",
       "      <th>3</th>\n",
       "      <td>4671654</td>\n",
       "      <td>{'all': 1}</td>\n",
       "      <td>1535770800</td>\n",
       "      <td>2018-09-01 03:00:00 +0000 UTC</td>\n",
       "      <td>{'temp': 303.68, 'temp_min': 302.35, 'temp_max...</td>\n",
       "      <td>NaN</td>\n",
       "      <td>[{'id': 800, 'main': 'Clear', 'description': '...</td>\n",
       "      <td>{'speed': 4, 'deg': 150}</td>\n",
       "    </tr>\n",
       "    <tr>\n",
       "      <th>4</th>\n",
       "      <td>4671654</td>\n",
       "      <td>{'all': 1}</td>\n",
       "      <td>1535774400</td>\n",
       "      <td>2018-09-01 04:00:00 +0000 UTC</td>\n",
       "      <td>{'temp': 302.04, 'temp_min': 301.15, 'temp_max...</td>\n",
       "      <td>NaN</td>\n",
       "      <td>[{'id': 800, 'main': 'Clear', 'description': '...</td>\n",
       "      <td>{'speed': 2, 'deg': 170}</td>\n",
       "    </tr>\n",
       "  </tbody>\n",
       "</table>\n",
       "</div>"
      ],
      "text/plain": [
       "   city_id      clouds          dt                         dt_iso  \\\n",
       "0  4671654  {'all': 1}  1535760000  2018-09-01 00:00:00 +0000 UTC   \n",
       "1  4671654  {'all': 1}  1535763600  2018-09-01 01:00:00 +0000 UTC   \n",
       "2  4671654  {'all': 1}  1535767200  2018-09-01 02:00:00 +0000 UTC   \n",
       "3  4671654  {'all': 1}  1535770800  2018-09-01 03:00:00 +0000 UTC   \n",
       "4  4671654  {'all': 1}  1535774400  2018-09-01 04:00:00 +0000 UTC   \n",
       "\n",
       "                                                main rain  \\\n",
       "0  {'temp': 308.22, 'temp_min': 307.15, 'temp_max...  NaN   \n",
       "1  {'temp': 306.64, 'temp_min': 305.95, 'temp_max...  NaN   \n",
       "2  {'temp': 304.94, 'temp_min': 303.75, 'temp_max...  NaN   \n",
       "3  {'temp': 303.68, 'temp_min': 302.35, 'temp_max...  NaN   \n",
       "4  {'temp': 302.04, 'temp_min': 301.15, 'temp_max...  NaN   \n",
       "\n",
       "                                             weather                      wind  \n",
       "0  [{'id': 800, 'main': 'Clear', 'description': '...  {'speed': 4, 'deg': 140}  \n",
       "1  [{'id': 800, 'main': 'Clear', 'description': '...  {'speed': 3, 'deg': 120}  \n",
       "2  [{'id': 800, 'main': 'Clear', 'description': '...  {'speed': 2, 'deg': 130}  \n",
       "3  [{'id': 800, 'main': 'Clear', 'description': '...  {'speed': 4, 'deg': 150}  \n",
       "4  [{'id': 800, 'main': 'Clear', 'description': '...  {'speed': 2, 'deg': 170}  "
      ]
     },
     "execution_count": 356,
     "metadata": {},
     "output_type": "execute_result"
    }
   ],
   "source": [
    "wea.head()"
   ]
  },
  {
   "cell_type": "code",
   "execution_count": 357,
   "metadata": {},
   "outputs": [],
   "source": [
    "main=wea[\"main\"].values.tolist()"
   ]
  },
  {
   "cell_type": "code",
   "execution_count": 358,
   "metadata": {},
   "outputs": [],
   "source": [
    "weather=pd.DataFrame(main)"
   ]
  },
  {
   "cell_type": "code",
   "execution_count": 359,
   "metadata": {},
   "outputs": [],
   "source": [
    "weather = weather.set_index(pd.to_datetime(wea['dt'], unit='s')) "
   ]
  },
  {
   "cell_type": "code",
   "execution_count": 426,
   "metadata": {},
   "outputs": [
    {
     "data": {
      "text/html": [
       "<div>\n",
       "<style scoped>\n",
       "    .dataframe tbody tr th:only-of-type {\n",
       "        vertical-align: middle;\n",
       "    }\n",
       "\n",
       "    .dataframe tbody tr th {\n",
       "        vertical-align: top;\n",
       "    }\n",
       "\n",
       "    .dataframe thead th {\n",
       "        text-align: right;\n",
       "    }\n",
       "</style>\n",
       "<table border=\"1\" class=\"dataframe\">\n",
       "  <thead>\n",
       "    <tr style=\"text-align: right;\">\n",
       "      <th></th>\n",
       "      <th>humidity</th>\n",
       "      <th>pressure</th>\n",
       "      <th>temp</th>\n",
       "      <th>temp_max</th>\n",
       "      <th>temp_min</th>\n",
       "    </tr>\n",
       "    <tr>\n",
       "      <th>dt</th>\n",
       "      <th></th>\n",
       "      <th></th>\n",
       "      <th></th>\n",
       "      <th></th>\n",
       "      <th></th>\n",
       "    </tr>\n",
       "  </thead>\n",
       "  <tbody>\n",
       "    <tr>\n",
       "      <th>2018-09-01 00:00:00</th>\n",
       "      <td>33</td>\n",
       "      <td>1012</td>\n",
       "      <td>308.22</td>\n",
       "      <td>309.25</td>\n",
       "      <td>307.15</td>\n",
       "    </tr>\n",
       "    <tr>\n",
       "      <th>2018-09-01 01:00:00</th>\n",
       "      <td>37</td>\n",
       "      <td>1012</td>\n",
       "      <td>306.64</td>\n",
       "      <td>307.05</td>\n",
       "      <td>305.95</td>\n",
       "    </tr>\n",
       "    <tr>\n",
       "      <th>2018-09-01 02:00:00</th>\n",
       "      <td>39</td>\n",
       "      <td>1012</td>\n",
       "      <td>304.94</td>\n",
       "      <td>306.45</td>\n",
       "      <td>303.75</td>\n",
       "    </tr>\n",
       "    <tr>\n",
       "      <th>2018-09-01 03:00:00</th>\n",
       "      <td>55</td>\n",
       "      <td>1014</td>\n",
       "      <td>303.68</td>\n",
       "      <td>305.35</td>\n",
       "      <td>302.35</td>\n",
       "    </tr>\n",
       "    <tr>\n",
       "      <th>2018-09-01 04:00:00</th>\n",
       "      <td>60</td>\n",
       "      <td>1014</td>\n",
       "      <td>302.04</td>\n",
       "      <td>302.65</td>\n",
       "      <td>301.15</td>\n",
       "    </tr>\n",
       "  </tbody>\n",
       "</table>\n",
       "</div>"
      ],
      "text/plain": [
       "                     humidity  pressure    temp  temp_max  temp_min\n",
       "dt                                                                 \n",
       "2018-09-01 00:00:00        33      1012  308.22    309.25    307.15\n",
       "2018-09-01 01:00:00        37      1012  306.64    307.05    305.95\n",
       "2018-09-01 02:00:00        39      1012  304.94    306.45    303.75\n",
       "2018-09-01 03:00:00        55      1014  303.68    305.35    302.35\n",
       "2018-09-01 04:00:00        60      1014  302.04    302.65    301.15"
      ]
     },
     "execution_count": 426,
     "metadata": {},
     "output_type": "execute_result"
    }
   ],
   "source": [
    "weather.head()"
   ]
  },
  {
   "cell_type": "code",
   "execution_count": 391,
   "metadata": {},
   "outputs": [],
   "source": [
    "a=(weather[\"temp_max\"].resample(\"D\").max()-273.15)*9/5+32\n",
    "b=(weather[\"temp_min\"].resample(\"D\").min()-273.15)*9/5+32 \n",
    "c=weather[\"humidity\"].resample(\"D\").mean()"
   ]
  },
  {
   "cell_type": "code",
   "execution_count": 392,
   "metadata": {},
   "outputs": [],
   "source": [
    "X=pd.DataFrame({\"constant\":1,\"temp_max\":a,\"temp_min\":b,\"humidity\":c})"
   ]
  },
  {
   "cell_type": "code",
   "execution_count": 425,
   "metadata": {},
   "outputs": [
    {
     "data": {
      "text/html": [
       "<div>\n",
       "<style scoped>\n",
       "    .dataframe tbody tr th:only-of-type {\n",
       "        vertical-align: middle;\n",
       "    }\n",
       "\n",
       "    .dataframe tbody tr th {\n",
       "        vertical-align: top;\n",
       "    }\n",
       "\n",
       "    .dataframe thead th {\n",
       "        text-align: right;\n",
       "    }\n",
       "</style>\n",
       "<table border=\"1\" class=\"dataframe\">\n",
       "  <thead>\n",
       "    <tr style=\"text-align: right;\">\n",
       "      <th></th>\n",
       "      <th>constant</th>\n",
       "      <th>temp_max</th>\n",
       "      <th>temp_min</th>\n",
       "      <th>humidity</th>\n",
       "    </tr>\n",
       "    <tr>\n",
       "      <th>dt</th>\n",
       "      <th></th>\n",
       "      <th></th>\n",
       "      <th></th>\n",
       "      <th></th>\n",
       "    </tr>\n",
       "  </thead>\n",
       "  <tbody>\n",
       "    <tr>\n",
       "      <th>2018-09-01</th>\n",
       "      <td>1</td>\n",
       "      <td>98.06</td>\n",
       "      <td>71.06</td>\n",
       "      <td>57.833333</td>\n",
       "    </tr>\n",
       "    <tr>\n",
       "      <th>2018-09-02</th>\n",
       "      <td>1</td>\n",
       "      <td>98.06</td>\n",
       "      <td>72.86</td>\n",
       "      <td>57.833333</td>\n",
       "    </tr>\n",
       "    <tr>\n",
       "      <th>2018-09-03</th>\n",
       "      <td>1</td>\n",
       "      <td>95.00</td>\n",
       "      <td>73.40</td>\n",
       "      <td>71.708333</td>\n",
       "    </tr>\n",
       "    <tr>\n",
       "      <th>2018-09-04</th>\n",
       "      <td>1</td>\n",
       "      <td>93.20</td>\n",
       "      <td>72.32</td>\n",
       "      <td>82.458333</td>\n",
       "    </tr>\n",
       "    <tr>\n",
       "      <th>2018-09-05</th>\n",
       "      <td>1</td>\n",
       "      <td>95.00</td>\n",
       "      <td>73.40</td>\n",
       "      <td>75.375000</td>\n",
       "    </tr>\n",
       "  </tbody>\n",
       "</table>\n",
       "</div>"
      ],
      "text/plain": [
       "            constant  temp_max  temp_min   humidity\n",
       "dt                                                 \n",
       "2018-09-01         1     98.06     71.06  57.833333\n",
       "2018-09-02         1     98.06     72.86  57.833333\n",
       "2018-09-03         1     95.00     73.40  71.708333\n",
       "2018-09-04         1     93.20     72.32  82.458333\n",
       "2018-09-05         1     95.00     73.40  75.375000"
      ]
     },
     "execution_count": 425,
     "metadata": {},
     "output_type": "execute_result"
    }
   ],
   "source": [
    "X.head()"
   ]
  },
  {
   "cell_type": "code",
   "execution_count": 361,
   "metadata": {},
   "outputs": [],
   "source": [
    "step=pd.read_csv(\"Step Counts - KC Steps.csv\")"
   ]
  },
  {
   "cell_type": "code",
   "execution_count": 423,
   "metadata": {},
   "outputs": [
    {
     "data": {
      "text/html": [
       "<div>\n",
       "<style scoped>\n",
       "    .dataframe tbody tr th:only-of-type {\n",
       "        vertical-align: middle;\n",
       "    }\n",
       "\n",
       "    .dataframe tbody tr th {\n",
       "        vertical-align: top;\n",
       "    }\n",
       "\n",
       "    .dataframe thead th {\n",
       "        text-align: right;\n",
       "    }\n",
       "</style>\n",
       "<table border=\"1\" class=\"dataframe\">\n",
       "  <thead>\n",
       "    <tr style=\"text-align: right;\">\n",
       "      <th></th>\n",
       "      <th>Date</th>\n",
       "      <th>steps</th>\n",
       "    </tr>\n",
       "  </thead>\n",
       "  <tbody>\n",
       "    <tr>\n",
       "      <th>0</th>\n",
       "      <td>9/1/18</td>\n",
       "      <td>2736</td>\n",
       "    </tr>\n",
       "    <tr>\n",
       "      <th>1</th>\n",
       "      <td>9/2/18</td>\n",
       "      <td>8901</td>\n",
       "    </tr>\n",
       "    <tr>\n",
       "      <th>2</th>\n",
       "      <td>9/3/18</td>\n",
       "      <td>334</td>\n",
       "    </tr>\n",
       "    <tr>\n",
       "      <th>3</th>\n",
       "      <td>9/4/18</td>\n",
       "      <td>4182</td>\n",
       "    </tr>\n",
       "    <tr>\n",
       "      <th>4</th>\n",
       "      <td>9/5/18</td>\n",
       "      <td>9232</td>\n",
       "    </tr>\n",
       "  </tbody>\n",
       "</table>\n",
       "</div>"
      ],
      "text/plain": [
       "     Date  steps\n",
       "0  9/1/18   2736\n",
       "1  9/2/18   8901\n",
       "2  9/3/18    334\n",
       "3  9/4/18   4182\n",
       "4  9/5/18   9232"
      ]
     },
     "execution_count": 423,
     "metadata": {},
     "output_type": "execute_result"
    }
   ],
   "source": [
    "step.head()"
   ]
  },
  {
   "cell_type": "code",
   "execution_count": 383,
   "metadata": {},
   "outputs": [],
   "source": [
    "y=step.iloc[:-1,:]"
   ]
  },
  {
   "cell_type": "code",
   "execution_count": 385,
   "metadata": {},
   "outputs": [],
   "source": [
    "y=y[\"steps\"].values.reshape(79,1)"
   ]
  },
  {
   "cell_type": "code",
   "execution_count": 446,
   "metadata": {},
   "outputs": [],
   "source": [
    "theta=np.array([1215.23927059,41.13028054,-11.34748777,28.91362573])\n",
    "alpha = 0.00005"
   ]
  },
  {
   "cell_type": "code",
   "execution_count": 430,
   "metadata": {},
   "outputs": [],
   "source": [
    "def new_weight(X,y,theta,alpha):\n",
    "    theta = theta - alpha*(X@theta.T-y)*X\n",
    "    return theta"
   ]
  },
  {
   "cell_type": "code",
   "execution_count": 431,
   "metadata": {},
   "outputs": [],
   "source": [
    "def computecost(X,y,theta):\n",
    "    inner = np.power((np.matmul(X,theta.T)-y),2)\n",
    "    return inner"
   ]
  },
  {
   "cell_type": "code",
   "execution_count": 432,
   "metadata": {},
   "outputs": [
    {
     "data": {
      "text/plain": [
       "(79, 4)"
      ]
     },
     "execution_count": 432,
     "metadata": {},
     "output_type": "execute_result"
    }
   ],
   "source": [
    "X.values.shape"
   ]
  },
  {
   "cell_type": "code",
   "execution_count": 433,
   "metadata": {},
   "outputs": [
    {
     "data": {
      "text/plain": [
       "(79, 1)"
      ]
     },
     "execution_count": 433,
     "metadata": {},
     "output_type": "execute_result"
    }
   ],
   "source": [
    "y.shape"
   ]
  },
  {
   "cell_type": "code",
   "execution_count": 447,
   "metadata": {},
   "outputs": [],
   "source": [
    "t=[]\n",
    "c=[]\n",
    "s=[]\n",
    "for i in range(len(y)):\n",
    "    theta=new_weight(X.values[i],y[i],theta,alpha)\n",
    "    st=np.dot(X.values[i],theta)\n",
    "    cost=computecost(X.values[i],y[i],theta)\n",
    "    s.append(st)\n",
    "    t.append(theta)\n",
    "    c.append(cost)"
   ]
  },
  {
   "cell_type": "code",
   "execution_count": 455,
   "metadata": {},
   "outputs": [
    {
     "data": {
      "text/plain": [
       "array([1215.34949304,   45.47702315,  -19.00725233,   49.8491299 ])"
      ]
     },
     "execution_count": 455,
     "metadata": {},
     "output_type": "execute_result"
    }
   ],
   "source": [
    "t[-1]"
   ]
  },
  {
   "cell_type": "code",
   "execution_count": 449,
   "metadata": {},
   "outputs": [
    {
     "data": {
      "text/plain": [
       "[3071.974384535338,\n",
       " 8393.164652016549,\n",
       " 520.5410410948432,\n",
       " 4310.508089600082,\n",
       " 9255.908132909575,\n",
       " 9122.712909106243,\n",
       " 5870.857165631935,\n",
       " 1282.9436962788395,\n",
       " 1107.829100576866,\n",
       " 6419.857936826347,\n",
       " 7767.448245440022,\n",
       " 6889.3307754845955,\n",
       " 4632.521095933345,\n",
       " 8608.984312540946,\n",
       " 7348.792157068175,\n",
       " 867.2449585605923,\n",
       " 8168.387246128224,\n",
       " 7293.085420986447,\n",
       " 6765.75232264315,\n",
       " 4631.848596747232,\n",
       " 5890.066711904985,\n",
       " 3556.1860087458376,\n",
       " 1054.7456066572581,\n",
       " 5092.896862359329,\n",
       " 7278.91684525875,\n",
       " 6616.086060211517,\n",
       " 7363.134973700586,\n",
       " 3299.3526302235978,\n",
       " 4529.918432070148,\n",
       " 591.5274209236209,\n",
       " 10406.061679847862,\n",
       " 8287.858760280376,\n",
       " 7361.569304422904,\n",
       " 7750.589228308112,\n",
       " 6705.7544533867995,\n",
       " 784.3583625445,\n",
       " 2126.4944000109263,\n",
       " 5602.541685657643,\n",
       " 5656.367623635257,\n",
       " 7747.505897521742,\n",
       " 6706.738557860164,\n",
       " 4787.948314514846,\n",
       " 8966.38229048936,\n",
       " 4322.707155428465,\n",
       " 6031.028780089775,\n",
       " 6949.367205025073,\n",
       " 4832.274167735017,\n",
       " 5607.039458992823,\n",
       " 3970.7603805447043,\n",
       " 1342.5071107109957,\n",
       " 4404.0184914558195,\n",
       " 5148.0435800281975,\n",
       " 7541.702499958821,\n",
       " 6978.975317560047,\n",
       " 7147.562351755098,\n",
       " 8025.409158356385,\n",
       " 7855.342960099778,\n",
       " 5385.682323601766,\n",
       " 7193.410003568972,\n",
       " 7535.661987887334,\n",
       " 7079.210584099704,\n",
       " 6918.742068642469,\n",
       " 6416.7861355562145,\n",
       " 3432.0646494234174,\n",
       " 2534.599432989364,\n",
       " 5798.917617543479,\n",
       " 8170.950522639549,\n",
       " 6893.511474223097,\n",
       " 7481.721835271164,\n",
       " 10613.101587667366,\n",
       " 5671.3528724963635,\n",
       " 5559.875148178995,\n",
       " 6859.513938300928,\n",
       " 5602.846893428991,\n",
       " 6250.48228196387,\n",
       " 6428.100591338236,\n",
       " 6821.039652611286,\n",
       " 11551.569801549856,\n",
       " 6179.614447496888]"
      ]
     },
     "execution_count": 449,
     "metadata": {},
     "output_type": "execute_result"
    }
   ],
   "source": [
    "s"
   ]
  },
  {
   "cell_type": "code",
   "execution_count": 450,
   "metadata": {},
   "outputs": [
    {
     "data": {
      "text/plain": [
       "[<matplotlib.lines.Line2D at 0x1168bd518>]"
      ]
     },
     "execution_count": 450,
     "metadata": {},
     "output_type": "execute_result"
    },
    {
     "data": {
      "image/png": "[encoded data removed]",
      "text/plain": [
       "<Figure size 432x288 with 1 Axes>"
      ]
     },
     "metadata": {},
     "output_type": "display_data"
    }
   ],
   "source": [
    "plt.plot(s)"
   ]
  },
  {
   "cell_type": "code",
   "execution_count": 451,
   "metadata": {},
   "outputs": [
    {
     "data": {
      "text/plain": [
       "[<matplotlib.lines.Line2D at 0x11687f668>]"
      ]
     },
     "execution_count": 451,
     "metadata": {},
     "output_type": "execute_result"
    },
    {
     "data": {
      "image/png": "[encoded data removed]",
      "text/plain": [
       "<Figure size 432x288 with 1 Axes>"
      ]
     },
     "metadata": {},
     "output_type": "display_data"
    }
   ],
   "source": [
    "plt.plot(y)"
   ]
  },
  {
   "cell_type": "code",
   "execution_count": 452,
   "metadata": {},
   "outputs": [],
   "source": [
    "test_wea1=np.array([1,70,49,47.5])"
   ]
  },
  {
   "cell_type": "code",
   "execution_count": 453,
   "metadata": {},
   "outputs": [],
   "source": [
    "test_step=np.array([5738])"
   ]
  },
  {
   "cell_type": "code",
   "execution_count": 456,
   "metadata": {},
   "outputs": [],
   "source": [
    "new=new_weight(test_wea,test_step,t[-1],alpha)"
   ]
  },
  {
   "cell_type": "code",
   "execution_count": null,
   "metadata": {},
   "outputs": [],
   "source": []
  },
  {
   "cell_type": "code",
   "execution_count": 457,
   "metadata": {},
   "outputs": [],
   "source": [
    "prediction=np.dot(test_wea,t[-1])"
   ]
  },
  {
   "cell_type": "code",
   "execution_count": 458,
   "metadata": {},
   "outputs": [
    {
     "data": {
      "text/plain": [
       "5835.2194193121"
      ]
     },
     "execution_count": 458,
     "metadata": {},
     "output_type": "execute_result"
    }
   ],
   "source": [
    "prediction\n"
   ]
  },
  {
   "cell_type": "code",
   "execution_count": null,
   "metadata": {},
   "outputs": [],
   "source": []
  }
 ],
 "metadata": {
  "kernelspec": {
   "display_name": "Python 3",
   "language": "python",
   "name": "python3"
  },
  "language_info": {
   "codemirror_mode": {
    "name": "ipython",
    "version": 3
   },
   "file_extension": ".py",
   "mimetype": "text/x-python",
   "name": "python",
   "nbconvert_exporter": "python",
   "pygments_lexer": "ipython3",
   "version": "3.6.5"
  }
 },
 "nbformat": 4,
 "nbformat_minor": 2
}
